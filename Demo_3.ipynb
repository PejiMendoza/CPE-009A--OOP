{
  "nbformat": 4,
  "nbformat_minor": 0,
  "metadata": {
    "colab": {
      "provenance": [],
      "authorship_tag": "ABX9TyOca84Uv1PnlNqNvsSgdoC8",
      "include_colab_link": true
    },
    "kernelspec": {
      "name": "python3",
      "display_name": "Python 3"
    },
    "language_info": {
      "name": "python"
    }
  },
  "cells": [
    {
      "cell_type": "markdown",
      "metadata": {
        "id": "view-in-github",
        "colab_type": "text"
      },
      "source": [
        "<a href=\"https://colab.research.google.com/github/PejiMendoza/CPE-009A--OOP/blob/main/Demo_3.ipynb\" target=\"_parent\"><img src=\"https://colab.research.google.com/assets/colab-badge.svg\" alt=\"Open In Colab\"/></a>"
      ]
    },
    {
      "cell_type": "markdown",
      "source": [
        "Control structure\n",
        "\n",
        "elif  statement\n"
      ],
      "metadata": {
        "id": "r4OC9COkOdDh"
      }
    },
    {
      "cell_type": "code",
      "source": [
        "a=12\n",
        "b=12\n",
        "if b>a:\n",
        "  print(\"b is greater than a\")\n",
        "elif b==a:\n",
        "  print(\"b and a is equal\")\n",
        "\n"
      ],
      "metadata": {
        "colab": {
          "base_uri": "https://localhost:8080/"
        },
        "id": "sXtyh0COOlGS",
        "outputId": "b9d675e6-9b1e-4daf-8c7a-9ccc3f46e4a2"
      },
      "execution_count": null,
      "outputs": [
        {
          "output_type": "stream",
          "name": "stdout",
          "text": [
            "b and a is equal\n"
          ]
        }
      ]
    },
    {
      "cell_type": "code",
      "source": [
        "if statement"
      ],
      "metadata": {
        "id": "ZkM2zDHZPOgY"
      },
      "execution_count": null,
      "outputs": []
    },
    {
      "cell_type": "code",
      "source": [
        "a=12\n",
        "b=100\n",
        "if b>a:\n",
        "  print(\"b is greater than a\")\n"
      ],
      "metadata": {
        "colab": {
          "base_uri": "https://localhost:8080/"
        },
        "id": "DATMiQLZPaKg",
        "outputId": "5d3d8456-5ea7-414a-c1dd-9ad907099aed"
      },
      "execution_count": null,
      "outputs": [
        {
          "output_type": "stream",
          "name": "stdout",
          "text": [
            "b is greater than a\n"
          ]
        }
      ]
    },
    {
      "cell_type": "markdown",
      "source": [
        "else statement\n"
      ],
      "metadata": {
        "id": "H3PJ8lM9QboA"
      }
    },
    {
      "cell_type": "code",
      "source": [
        "a=200\n",
        "b=33\n",
        "if b>a:\n",
        "  print(\"b is greater than a\")\n",
        "elif a==b:\n",
        "  print(\"a and b are equal\")\n",
        "else:\n",
        "  print(\"a is greater than b\")"
      ],
      "metadata": {
        "colab": {
          "base_uri": "https://localhost:8080/"
        },
        "id": "J_tLaT18Qeli",
        "outputId": "f47da3eb-df60-444f-fcbe-6f078e13a094"
      },
      "execution_count": null,
      "outputs": [
        {
          "output_type": "stream",
          "name": "stdout",
          "text": [
            "a is greater than b\n"
          ]
        }
      ]
    },
    {
      "cell_type": "markdown",
      "source": [
        "short hand if statement"
      ],
      "metadata": {
        "id": "UgkvidUdSkYp"
      }
    },
    {
      "cell_type": "code",
      "source": [
        "if a>b: print (\"a is greatr than b\")"
      ],
      "metadata": {
        "colab": {
          "base_uri": "https://localhost:8080/"
        },
        "id": "BHSoXiBISnvy",
        "outputId": "0effb0fb-796a-4892-e490-d7d6b6cc75ce"
      },
      "execution_count": 11,
      "outputs": [
        {
          "output_type": "stream",
          "name": "stdout",
          "text": [
            "a is greatr than b\n"
          ]
        }
      ]
    },
    {
      "cell_type": "markdown",
      "source": [
        "and-both conditions are true"
      ],
      "metadata": {
        "id": "X-UomY-vSzV5"
      }
    },
    {
      "cell_type": "code",
      "source": [
        "a = 200\n",
        "b = 33\n",
        "c = 500\n",
        "if a>b and c>a:\n",
        "  print(\"Both conditions are True\")\n"
      ],
      "metadata": {
        "colab": {
          "base_uri": "https://localhost:8080/"
        },
        "id": "E9CQWW16T2M8",
        "outputId": "aae8f231-7685-4afd-f8d9-638719d40e29"
      },
      "execution_count": 12,
      "outputs": [
        {
          "output_type": "stream",
          "name": "stdout",
          "text": [
            "Both conditions are True\n"
          ]
        }
      ]
    },
    {
      "cell_type": "markdown",
      "source": [
        "or-at least one of the conditions is true"
      ],
      "metadata": {
        "id": "8dQHqlCBUMBJ"
      }
    },
    {
      "cell_type": "code",
      "source": [
        "a=200\n",
        "b=33\n",
        "c=500\n",
        "if a>b or a>c:\n",
        "  print(\"At least one of the conditions is True\")"
      ],
      "metadata": {
        "colab": {
          "base_uri": "https://localhost:8080/"
        },
        "id": "706s4_q2UjqJ",
        "outputId": "692e4cc2-92c7-4c02-dfe1-855c08e758d5"
      },
      "execution_count": 19,
      "outputs": [
        {
          "output_type": "stream",
          "name": "stdout",
          "text": [
            "At least one of the conditions is True\n"
          ]
        }
      ]
    },
    {
      "cell_type": "markdown",
      "source": [
        "nested If"
      ],
      "metadata": {
        "id": "dw7ofxJdVGMq"
      }
    },
    {
      "cell_type": "code",
      "source": [
        "x=41\n",
        "\n",
        "if x>10:\n",
        "  print(\"Above ten,\")\n",
        "if x>20:\n",
        "  print(\"and also above 20!\")\n",
        "else:\n",
        "  print(\"but not above 20.\")\n"
      ],
      "metadata": {
        "colab": {
          "base_uri": "https://localhost:8080/"
        },
        "id": "z4HJoAf4VI4a",
        "outputId": "1dddb1d3-3932-4ceb-cb74-742c71ba8dec"
      },
      "execution_count": 25,
      "outputs": [
        {
          "output_type": "stream",
          "name": "stdout",
          "text": [
            "Above ten,\n",
            "and also above 20!\n"
          ]
        }
      ]
    },
    {
      "cell_type": "code",
      "source": [
        "x=41\n",
        "\n",
        "if x>10:\n",
        "  print(\"Above ten,\")\n",
        "if x>20:\n",
        "  print(\"and also above 20,\")\n",
        "if x>30:\n",
        "  print(\"and also above 30\")\n",
        "if x > 40:\n",
        "  print(\"and also above 40.\")\n",
        "if x>50:\n",
        "  print(\"and also above 50\")\n",
        "else:\n",
        "    print(\"but not above 50\")\n",
        "   else:\n",
        "      print(\"but not above 40.\")\n",
        "      else:\n",
        "        print(\"but not above 30\")\n",
        "        else:\n",
        "          print(\"but not above 20\")"
      ],
      "metadata": {
        "colab": {
          "base_uri": "https://localhost:8080/",
          "height": 145
        },
        "id": "Px9wdzo2W3ZD",
        "outputId": "7fb843b4-d560-4d2c-a7e1-de19ed94ea69"
      },
      "execution_count": 45,
      "outputs": [
        {
          "output_type": "error",
          "ename": "IndentationError",
          "evalue": "unindent does not match any outer indentation level (<tokenize>, line 15)",
          "traceback": [
            "\u001b[0;36m  File \u001b[0;32m\"<tokenize>\"\u001b[0;36m, line \u001b[0;32m15\u001b[0m\n\u001b[0;31m    else:\u001b[0m\n\u001b[0m    ^\u001b[0m\n\u001b[0;31mIndentationError\u001b[0m\u001b[0;31m:\u001b[0m unindent does not match any outer indentation level\n"
          ]
        }
      ]
    },
    {
      "cell_type": "markdown",
      "source": [
        "Example 2: Write a program that determines if the input number is POSITIVE, NEGATIVE, and ZERO."
      ],
      "metadata": {
        "id": "4bQlgbOlVmB6"
      }
    },
    {
      "cell_type": "code",
      "source": [],
      "metadata": {
        "id": "P0Sqx-RJhL0l"
      },
      "execution_count": null,
      "outputs": []
    },
    {
      "cell_type": "markdown",
      "source": [
        "Write a program to determine if the grade:"
      ],
      "metadata": {
        "id": "eJXGipJGhMSN"
      }
    },
    {
      "cell_type": "code",
      "source": [
        "def grade_status(grade):\n",
        "  if 90 <= grade <= 100:\n",
        "    return \"Passed\"\n",
        "  elif 70 <= grade <90:\n",
        "    return \"Remedial\"\n",
        "  elif 0 <= grade < 70:\n",
        "    return \"Failed\"\n",
        "   else:\n",
        "      return \"Invalid Grade\""
      ],
      "metadata": {
        "colab": {
          "base_uri": "https://localhost:8080/",
          "height": 145
        },
        "id": "FhgUr0lFiTd2",
        "outputId": "4758931b-9b8c-4364-c57c-8ca086562d73"
      },
      "execution_count": 62,
      "outputs": [
        {
          "output_type": "error",
          "ename": "IndentationError",
          "evalue": "unindent does not match any outer indentation level (<tokenize>, line 8)",
          "traceback": [
            "\u001b[0;36m  File \u001b[0;32m\"<tokenize>\"\u001b[0;36m, line \u001b[0;32m8\u001b[0m\n\u001b[0;31m    else:\u001b[0m\n\u001b[0m    ^\u001b[0m\n\u001b[0;31mIndentationError\u001b[0m\u001b[0;31m:\u001b[0m unindent does not match any outer indentation level\n"
          ]
        }
      ]
    }
  ]
}