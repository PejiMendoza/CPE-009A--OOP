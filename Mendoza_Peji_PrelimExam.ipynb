{
  "nbformat": 4,
  "nbformat_minor": 0,
  "metadata": {
    "colab": {
      "provenance": [],
      "authorship_tag": "ABX9TyN1jroHGY8fzeKY/mCMiOMk",
      "include_colab_link": true
    },
    "kernelspec": {
      "name": "python3",
      "display_name": "Python 3"
    },
    "language_info": {
      "name": "python"
    }
  },
  "cells": [
    {
      "cell_type": "markdown",
      "metadata": {
        "id": "view-in-github",
        "colab_type": "text"
      },
      "source": [
        "<a href=\"https://colab.research.google.com/github/PejiMendoza/CPE-009A--OOP/blob/main/Mendoza_Peji_PrelimExam.ipynb\" target=\"_parent\"><img src=\"https://colab.research.google.com/assets/colab-badge.svg\" alt=\"Open In Colab\"/></a>"
      ]
    },
    {
      "cell_type": "markdown",
      "source": [
        "Prelim Exam"
      ],
      "metadata": {
        "id": "Go0BXDfEmOXi"
      }
    },
    {
      "cell_type": "code",
      "source": [
        "fullname= input(\"Enter your fullname:\")\n",
        "age = input(\"Enter your age:\")\n",
        "print(\"Fullname and age: \" +fullname  + age)"
      ],
      "metadata": {
        "colab": {
          "base_uri": "https://localhost:8080/"
        },
        "id": "aiBjO1k1xONH",
        "outputId": "2d51b6dd-59b4-4946-82a2-6ce864439dd2"
      },
      "execution_count": 17,
      "outputs": [
        {
          "output_type": "stream",
          "name": "stdout",
          "text": [
            "Enter your fullname:peji\n",
            "Enter your age: 19\n",
            "Fullname and age: peji 19\n"
          ]
        }
      ]
    }
  ]
}