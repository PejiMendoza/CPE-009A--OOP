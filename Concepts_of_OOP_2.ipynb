{
  "nbformat": 4,
  "nbformat_minor": 0,
  "metadata": {
    "colab": {
      "provenance": [],
      "authorship_tag": "ABX9TyNixyNsXmx+OBCgms8E9BMP",
      "include_colab_link": true
    },
    "kernelspec": {
      "name": "python3",
      "display_name": "Python 3"
    },
    "language_info": {
      "name": "python"
    }
  },
  "cells": [
    {
      "cell_type": "markdown",
      "metadata": {
        "id": "view-in-github",
        "colab_type": "text"
      },
      "source": [
        "<a href=\"https://colab.research.google.com/github/PejiMendoza/CPE-009A--OOP/blob/main/Concepts_of_OOP_2.ipynb\" target=\"_parent\"><img src=\"https://colab.research.google.com/assets/colab-badge.svg\" alt=\"Open In Colab\"/></a>"
      ]
    },
    {
      "cell_type": "markdown",
      "source": [
        "Inheritance, Encapsulation, and Creating Multiple Object Names"
      ],
      "metadata": {
        "id": "AIA9P4ahW39k"
      }
    },
    {
      "cell_type": "markdown",
      "source": [
        "example 1"
      ],
      "metadata": {
        "id": "xTN5i5sVfl89"
      }
    },
    {
      "cell_type": "code",
      "source": [
        "class RegularPolygon:\n",
        "  def __init__(self,side):\n",
        "    self.side=side\n",
        "class Square(RegularPolygon):\n",
        "  def area(self):\n",
        "      return self.side*self.side\n",
        "class EquilateralTriangle(RegularPolygon):\n",
        "  def area(self):\n",
        "      return self.side * self.side * 0.433\n",
        "\n",
        "\n",
        "\n",
        "square = Square(4)\n",
        "print(square.area())\n",
        "\n",
        "equiltriangle = EquilateralTriangle(4)\n",
        "print(equiltriangle.area())\n",
        "\n"
      ],
      "metadata": {
        "colab": {
          "base_uri": "https://localhost:8080/"
        },
        "id": "jqqEyURqfj51",
        "outputId": "098e79e5-35aa-4cae-8c14-4e8a31a7830f"
      },
      "execution_count": null,
      "outputs": [
        {
          "output_type": "stream",
          "name": "stdout",
          "text": [
            "16\n",
            "6.928\n"
          ]
        }
      ]
    },
    {
      "cell_type": "code",
      "source": [
        "class RegularPolygon:    #creates the super class name RegularPolygon\n",
        "  def __init__(self,side):\n",
        "    self.side=side\n",
        "class Square(RegularPolygon):    #inherits the properties of superclass RegularPolygon\n",
        "  def area(self):     #defines the method/function to get the area of a square\n",
        "      return self.side*self.side\n",
        "class EquilateralTriangle(RegularPolygon):\n",
        "  def area(self):     #defines the method/function to get the area of an equilateral triangle\n",
        "      return self.side * self.side * 0.433\n",
        "\n",
        "\n",
        "\n",
        "square = Square(4)     #creates and object name square\n",
        "print(square.area())     #print the instance of the attribute of Square class\n",
        "\n",
        "equiltriangle = EquilateralTriangle(4)    #creates and object name equiltriangle\n",
        "print(equiltriangle.area())     #print the instance of the attribute of EquilateralTriangle class"
      ],
      "metadata": {
        "colab": {
          "base_uri": "https://localhost:8080/"
        },
        "id": "Hm82S6iOjZ_X",
        "outputId": "f395bc3d-84b5-45c1-a447-e590ee3566f5"
      },
      "execution_count": null,
      "outputs": [
        {
          "output_type": "stream",
          "name": "stdout",
          "text": [
            "16\n",
            "6.928\n"
          ]
        }
      ]
    },
    {
      "cell_type": "markdown",
      "source": [
        "Encapsulation using Mangling (double_underscore)\n"
      ],
      "metadata": {
        "id": "AG-gdSj0rGSw"
      }
    },
    {
      "cell_type": "code",
      "source": [
        "class RegularPolygon:\n",
        "  def __init__(self,side):\n",
        "    self.side=side\n",
        "  def area(self):\n",
        "    print(self.side *self.side)\n",
        "class Square(RegularPolygon):\n",
        "  pass\n",
        "\n",
        "\n",
        "square = Square(5)\n",
        "square.area()\n",
        "\n"
      ],
      "metadata": {
        "colab": {
          "base_uri": "https://localhost:8080/"
        },
        "id": "ZlFP6IGYrKgw",
        "outputId": "f0a332d5-46ae-40f4-c224-ccc6be3a74fb"
      },
      "execution_count": null,
      "outputs": [
        {
          "output_type": "stream",
          "name": "stdout",
          "text": [
            "25\n"
          ]
        }
      ]
    },
    {
      "cell_type": "markdown",
      "source": [
        "Application 1"
      ],
      "metadata": {
        "id": "VVub0eH1tdTn"
      }
    },
    {
      "cell_type": "code",
      "source": [
        "class Student:\n",
        "  def __init__(self,pre,mid,fin):\n",
        "    self.pre = pre\n",
        "    self.mid = mid\n",
        "    self.fin = fin\n",
        "class std1(Student):\n",
        "  def Grade(self):\n",
        "    return (self.pre + self.mid + self.fin)/3\n",
        "class std2(Student):\n",
        "  def Grade(self):\n",
        "    return (self.pre + self.mid + self.fin)/3\n",
        "class std3(Student):\n",
        "  def Grade(self):\n",
        "    return (self.pre + self.mid + self.fin)/3\n",
        "\n",
        "Jam = std1(60, 85, 75)\n",
        "print(Jam.Grade())\n",
        "Jed = std2(75, 60, 75)\n",
        "print(Jed.Grade())\n",
        "Chelsea = std3(60, 70, 55)\n",
        "print(Chelsea.Grade())\n"
      ],
      "metadata": {
        "colab": {
          "base_uri": "https://localhost:8080/"
        },
        "id": "2sENQmYo21mI",
        "outputId": "1d843b8e-8947-406a-f2b7-373780becb9e"
      },
      "execution_count": 1,
      "outputs": [
        {
          "output_type": "stream",
          "name": "stdout",
          "text": [
            "73.33333333333333\n",
            "70.0\n",
            "61.666666666666664\n"
          ]
        }
      ]
    }
  ]
}