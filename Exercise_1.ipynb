{
  "nbformat": 4,
  "nbformat_minor": 0,
  "metadata": {
    "colab": {
      "provenance": [],
      "authorship_tag": "ABX9TyNbg6uUqVaydage4CpYqHet",
      "include_colab_link": true
    },
    "kernelspec": {
      "name": "python3",
      "display_name": "Python 3"
    },
    "language_info": {
      "name": "python"
    }
  },
  "cells": [
    {
      "cell_type": "markdown",
      "metadata": {
        "id": "view-in-github",
        "colab_type": "text"
      },
      "source": [
        "<a href=\"https://colab.research.google.com/github/PejiMendoza/CPE-009A--OOP/blob/main/Exercise_1.ipynb\" target=\"_parent\"><img src=\"https://colab.research.google.com/assets/colab-badge.svg\" alt=\"Open In Colab\"/></a>"
      ]
    },
    {
      "cell_type": "code",
      "execution_count": null,
      "metadata": {
        "id": "NT6ruOU7T776"
      },
      "outputs": [],
      "source": []
    },
    {
      "cell_type": "markdown",
      "source": [
        "Algorithm to get the perimeter and area of a rectangle\n",
        "1:\n"
      ],
      "metadata": {
        "id": "mnfMk-oLVD7l"
      }
    },
    {
      "cell_type": "code",
      "source": [
        "print(\"Perimeter of a Rectangle\")\n",
        "length = int(input(\"Enter the length of the rectangle \"))\n",
        "Width = int(input(\"Enter the width of the rectangle \"))\n",
        "\n",
        "perimeter= 2*(length+width)\n",
        "\n",
        "print(\"Perimeter of the rectangle is\", perimeter)\n",
        "\n",
        "print(\"Area of a Rectangle\")\n",
        "\n",
        "length = int(input(\"Enter the length of the rectangle \"))\n",
        "Width = int(input(\"Enter the width of the rectangle \"))\n",
        "\n",
        "Area= length * width\n",
        "print(\"Area of the rectangle is\",Area)"
      ],
      "metadata": {
        "colab": {
          "base_uri": "https://localhost:8080/"
        },
        "id": "G7B-HBU2VSVc",
        "outputId": "3681cd50-fc2e-4528-a711-1f5b9759e3e4"
      },
      "execution_count": 5,
      "outputs": [
        {
          "output_type": "stream",
          "name": "stdout",
          "text": [
            "Perimeter of a Rectangle\n",
            "Enter the length of the rectangle 18\n",
            "Enter the Width of the rectangle 9\n",
            "Perimeter of the rectangle is 54\n",
            "Area of a Rectangle\n",
            "Enter the length of the rectangle 18\n",
            "Enter the Width of the rectangle 9\n",
            "Area of the rectangle is 162\n"
          ]
        }
      ]
    }
  ]
}