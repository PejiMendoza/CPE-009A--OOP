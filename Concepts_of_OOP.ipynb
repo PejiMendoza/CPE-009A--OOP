{
  "nbformat": 4,
  "nbformat_minor": 0,
  "metadata": {
    "colab": {
      "provenance": [],
      "authorship_tag": "ABX9TyNOSOaFjuZWXmnIOfKSP8++",
      "include_colab_link": true
    },
    "kernelspec": {
      "name": "python3",
      "display_name": "Python 3"
    },
    "language_info": {
      "name": "python"
    }
  },
  "cells": [
    {
      "cell_type": "markdown",
      "metadata": {
        "id": "view-in-github",
        "colab_type": "text"
      },
      "source": [
        "<a href=\"https://colab.research.google.com/github/PejiMendoza/CPE-009A--OOP/blob/main/Concepts_of_OOP.ipynb\" target=\"_parent\"><img src=\"https://colab.research.google.com/assets/colab-badge.svg\" alt=\"Open In Colab\"/></a>"
      ]
    },
    {
      "cell_type": "markdown",
      "source": [],
      "metadata": {
        "id": "eIi_GO_pXN6e"
      }
    },
    {
      "cell_type": "code",
      "source": [
        "class Car:\n",
        "  pass\n",
        "\n",
        "obj1 = Car()\n",
        "print(obj1)\n",
        "\n"
      ],
      "metadata": {
        "colab": {
          "base_uri": "https://localhost:8080/"
        },
        "id": "1DKu6X00XU81",
        "outputId": "159bbb27-b7be-442e-8cb7-bdc26ee19524"
      },
      "execution_count": 4,
      "outputs": [
        {
          "output_type": "stream",
          "name": "stdout",
          "text": [
            "<__main__.Car object at 0x7c4fdf103e20>\n"
          ]
        }
      ]
    },
    {
      "cell_type": "code",
      "source": [
        "class Car:\n",
        "  def _init_(self,name,color,model):\n",
        "    self.name = name\n",
        "    self.color = color\n",
        "    self.model = model"
      ],
      "metadata": {
        "id": "0Ucbq2cCjToh"
      },
      "execution_count": 15,
      "outputs": []
    },
    {
      "cell_type": "code",
      "source": [
        "class Car:\n",
        "  def __init__(self,name,color,mileage):\n",
        "    self.name = name\n",
        "    self.color = color\n",
        "    self.mileage = mileage\n",
        "obj1 = Car(\"BMW\",\"Red\",1000)\n",
        "obj2 = Car(\"Toyota\" ,\"Blue\", 1200)\n",
        "print(obj1.name)\n",
        "print(obj1.color)\n",
        "print(obj1.mileage)\n",
        "\n",
        "print(obj2.mileage)"
      ],
      "metadata": {
        "colab": {
          "base_uri": "https://localhost:8080/"
        },
        "id": "koMGEVt3mQpv",
        "outputId": "fe59deed-fd94-4af9-a8fe-cf40b05626a0"
      },
      "execution_count": 32,
      "outputs": [
        {
          "output_type": "stream",
          "name": "stdout",
          "text": [
            "BMW\n",
            "Red\n",
            "1000\n",
            "1200\n"
          ]
        }
      ]
    },
    {
      "cell_type": "code",
      "source": [
        "class student:\n",
        "  def __init__(self,name,age,course,section):\n",
        "    self.name =  name\n",
        "    self.age = age\n",
        "    self.course = course\n",
        "    self.section = section\n",
        "\n",
        "obj1= student(\"Peji Mendoza\" ,\"19\", \"CPE\" ,\"CPE12S6\")\n",
        "print(obj1.name)\n",
        "print(obj1.age)\n",
        "print(obj1.course)\n",
        "print(obj1.section)"
      ],
      "metadata": {
        "colab": {
          "base_uri": "https://localhost:8080/"
        },
        "id": "s809V89dn_ZO",
        "outputId": "5fb74f2b-a9a3-4490-e090-8b1d8dcecded"
      },
      "execution_count": 35,
      "outputs": [
        {
          "output_type": "stream",
          "name": "stdout",
          "text": [
            "Peji Mendoza\n",
            "19\n",
            "CPE\n",
            "CPE12S6\n"
          ]
        }
      ]
    }
  ]
}