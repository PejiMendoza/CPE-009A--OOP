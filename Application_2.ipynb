{
  "nbformat": 4,
  "nbformat_minor": 0,
  "metadata": {
    "colab": {
      "provenance": [],
      "authorship_tag": "ABX9TyP1ss8Y33Nhj9NA8y68F1/T",
      "include_colab_link": true
    },
    "kernelspec": {
      "name": "python3",
      "display_name": "Python 3"
    },
    "language_info": {
      "name": "python"
    }
  },
  "cells": [
    {
      "cell_type": "markdown",
      "metadata": {
        "id": "view-in-github",
        "colab_type": "text"
      },
      "source": [
        "<a href=\"https://colab.research.google.com/github/PejiMendoza/CPE-009A--OOP/blob/main/Application_2.ipynb\" target=\"_parent\"><img src=\"https://colab.research.google.com/assets/colab-badge.svg\" alt=\"Open In Colab\"/></a>"
      ]
    },
    {
      "cell_type": "markdown",
      "source": [
        "Application 2__Concepts of OOP"
      ],
      "metadata": {
        "id": "oLBqA0m2ecqt"
      }
    },
    {
      "cell_type": "code",
      "source": [
        "def display_number_of_sides(shape):\n",
        "  shapes = {\n",
        "      \"triangle\": 3,\n",
        "      \"square\": 4,\n",
        "      \"pentagon\": 5,\n",
        "      \"hexagon\": 6,\n",
        "      \"heptagon\": 7,\n",
        "      \"octagon\": 8,\n",
        "      \"nonagon\": 9,\n",
        "      \"decagon\": 10\n",
        "  }\n",
        "  if shape.lower() in shapes:\n",
        "    print(f\"A {shape.capitalize()} has {shapes[shape.lower()]} sides.\")\n",
        "  else:\n",
        "    print(\"Sorry, I don't know the number of sides for that shape.\")\n",
        "\n",
        "\n",
        ""
      ],
      "metadata": {
        "id": "9f1vooPRs1Vq"
      },
      "execution_count": 10,
      "outputs": []
    },
    {
      "cell_type": "code",
      "source": [
        "\n",
        "class Shapes:\n",
        "  def __init__(self,name,number):\n",
        "    self.name = name\n",
        "    self.number = number\n",
        "  def Sides(self):\n",
        "\n",
        "\n",
        "   class Triangle(Shapes):\n",
        "    pass\n",
        "    class Square(Shapes):\n",
        "      pass\n",
        "     class Pentagon(Shapes):\n",
        "\n",
        "      class Hexagon(Shapes):\n",
        "\n",
        "       class Heptagon(Shapes):\n",
        "\n",
        "         class Octagon(Shapes):\n",
        "\n",
        "          class Nonagon(Shapes):\n",
        "\n",
        "            class Decagon(Shapes):\n",
        "\n"
      ],
      "metadata": {
        "id": "tbc6nXv5wx_i"
      },
      "execution_count": null,
      "outputs": []
    }
  ]
}