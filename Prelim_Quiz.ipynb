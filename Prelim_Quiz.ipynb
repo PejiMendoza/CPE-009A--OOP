{
  "nbformat": 4,
  "nbformat_minor": 0,
  "metadata": {
    "colab": {
      "provenance": [],
      "authorship_tag": "ABX9TyNDIw76kSZ+8OT7LAXlblr7",
      "include_colab_link": true
    },
    "kernelspec": {
      "name": "python3",
      "display_name": "Python 3"
    },
    "language_info": {
      "name": "python"
    }
  },
  "cells": [
    {
      "cell_type": "markdown",
      "metadata": {
        "id": "view-in-github",
        "colab_type": "text"
      },
      "source": [
        "<a href=\"https://colab.research.google.com/github/PejiMendoza/CPE-009A--OOP/blob/main/Prelim_Quiz.ipynb\" target=\"_parent\"><img src=\"https://colab.research.google.com/assets/colab-badge.svg\" alt=\"Open In Colab\"/></a>"
      ]
    },
    {
      "cell_type": "code",
      "source": [],
      "metadata": {
        "id": "dlD7XY6fQwrc"
      },
      "execution_count": null,
      "outputs": []
    },
    {
      "cell_type": "markdown",
      "source": [
        "Prelim Quiz"
      ],
      "metadata": {
        "id": "sybVgAojQzeE"
      }
    },
    {
      "cell_type": "code",
      "source": [
        "n=20\n",
        "total_numbers=n\n",
        "total_sum=0\n",
        "average=0\n",
        "\n",
        "while n > 0:\n",
        "  total_sum +=n\n",
        "  n-=1\n",
        "\n",
        "average = total_sum/total_numbers\n",
        "\n",
        "print(\"sum:\",total_sum)\n",
        "print(\"Average:\", average)\n"
      ],
      "metadata": {
        "colab": {
          "base_uri": "https://localhost:8080/"
        },
        "id": "0J0-CmGQQ4_s",
        "outputId": "75add2a3-2aba-439c-ff8f-1a2adcb00349"
      },
      "execution_count": 8,
      "outputs": [
        {
          "output_type": "stream",
          "name": "stdout",
          "text": [
            "sum: 210\n",
            "Average: 10.5\n"
          ]
        }
      ]
    }
  ]
}