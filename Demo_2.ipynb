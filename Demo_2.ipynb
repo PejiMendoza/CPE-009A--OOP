{
  "nbformat": 4,
  "nbformat_minor": 0,
  "metadata": {
    "colab": {
      "provenance": [],
      "authorship_tag": "ABX9TyPw7EQHwY1uy6fOh1tlulmi",
      "include_colab_link": true
    },
    "kernelspec": {
      "name": "python3",
      "display_name": "Python 3"
    },
    "language_info": {
      "name": "python"
    }
  },
  "cells": [
    {
      "cell_type": "markdown",
      "metadata": {
        "id": "view-in-github",
        "colab_type": "text"
      },
      "source": [
        "<a href=\"https://colab.research.google.com/github/PejiMendoza/CPE-009A--OOP/blob/main/Demo_2.ipynb\" target=\"_parent\"><img src=\"https://colab.research.google.com/assets/colab-badge.svg\" alt=\"Open In Colab\"/></a>"
      ]
    },
    {
      "cell_type": "code",
      "execution_count": 2,
      "metadata": {
        "colab": {
          "base_uri": "https://localhost:8080/"
        },
        "id": "1_rQsby9FvVm",
        "outputId": "4c74e038-f4e4-47e3-c6a0-1b01e9cd1021"
      },
      "outputs": [
        {
          "output_type": "stream",
          "name": "stdout",
          "text": [
            "150\n",
            "50.0\n"
          ]
        }
      ],
      "source": [
        "num1= 50\n",
        "num2= 50\n",
        "num3= 50\n",
        "sum=num1+num2+num3\n",
        "average= sum/3\n",
        "print(sum)\n",
        "print(average)"
      ]
    }
  ]
}